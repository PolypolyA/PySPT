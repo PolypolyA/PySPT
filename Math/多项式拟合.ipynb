{
 "cells": [
  {
   "cell_type": "markdown",
   "metadata": {},
   "source": [
    "# 多项式曲线拟合\n",
    "此示例说明如何使用 polyfit 函数将多项式曲线与一组数据点拟合。您可以按照以下语法，使用 polyfit 求出以最小二乘方式与一组数据拟合的多项式的系数"
   ]
  },
  {
   "cell_type": "code",
   "execution_count": null,
   "metadata": {},
   "outputs": [],
   "source": [
    "p=np.polyfit(x,y,n)"
   ]
  },
  {
   "cell_type": "markdown",
   "metadata": {},
   "source": [
    "其中：\n",
    "x 和 y 是包含数据点的 x 和 y 坐标的向量\n",
    "n 是要拟合的多项式的次数\n",
    "创建包含五个数据点的 x-y 测试数据。"
   ]
  },
  {
   "cell_type": "code",
   "execution_count": null,
   "metadata": {},
   "outputs": [],
   "source": [
    "x=([1,2,3,4,5])\n",
    "y=([5.5,43.1,128,290.7,498.4])"
   ]
  },
  {
   "cell_type": "markdown",
   "metadata": {},
   "source": [
    "使用 polyfit 求与数据近似拟合的三次多项式。"
   ]
  },
  {
   "cell_type": "code",
   "execution_count": null,
   "metadata": {},
   "outputs": [],
   "source": [
    "p=np.polyfit(x,y,3)"
   ]
  },
  {
   "cell_type": "markdown",
   "metadata": {},
   "source": [
    "使用 polyfit 获取拟合线的多项式后，可以使用 polyval 计算可能未包含在原始数据中的其他点处的多项式。\n",
    "在更小域内计算 polyfit 估计值，并绘制实际数据值的估计值以进行对比。可以为拟合线包含方程注释。"
   ]
  },
  {
   "cell_type": "code",
   "execution_count": 3,
   "metadata": {},
   "outputs": [
    {
     "name": "stdout",
     "output_type": "stream",
     "text": [
      "[ -0.19166667  31.58214286 -60.32619048  35.34      ]\n"
     ]
    },
    {
     "data": {
      "image/png": "[encoded data removed]",
      "text/plain": [
       "<Figure size 432x288 with 1 Axes>"
      ]
     },
     "metadata": {
      "needs_background": "light"
     },
     "output_type": "display_data"
    }
   ],
   "source": [
    "import numpy as np\n",
    "import matplotlib.pyplot as plt\n",
    "x=([1,2,3,4,5])\n",
    "y=([5.5,43.1,128,290.7,498.4])\n",
    "p=np.polyfit(x,y,3)\n",
    "print(p)\n",
    "x2=np.arange(1,5+0.1,0.1)\n",
    "y2=np.polyval(p,x2)\n",
    "plt.plot(x,y,'o',x2,y2)\n",
    "s='y='+'%s'%round(p[0],1)+'x^3+'+'%s'%round(p[1],1)+'x^2+'+'%s'%round(p[2],1)+'x^1+'+'%s'%round(p[3],1)\n",
    "plt.text(2,400,s)\n",
    "plt.show()"
   ]
  }
 ],
 "metadata": {
  "kernelspec": {
   "display_name": "Python 3",
   "language": "python",
   "name": "python3"
  },
  "language_info": {
   "codemirror_mode": {
    "name": "ipython",
    "version": 3
   },
   "file_extension": ".py",
   "mimetype": "text/x-python",
   "name": "python",
   "nbconvert_exporter": "python",
   "pygments_lexer": "ipython3",
   "version": "3.7.1"
  }
 },
 "nbformat": 4,
 "nbformat_minor": 2
}
