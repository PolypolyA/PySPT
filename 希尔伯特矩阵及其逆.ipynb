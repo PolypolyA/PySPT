{
 "cells": [
  {
   "attachments": {
    "image.png": {
     "image/png": "[encoded data removed]"
    }
   },
   "cell_type": "markdown",
   "metadata": {},
   "source": [
    "# 希尔伯特矩阵及其逆\n",
    "![image.png](attachment:image.png)\n",
    "定义:希尔伯特矩阵是以元素为单位分数的方阵。符号计算给出了这些病态矩阵的精确结果，而纯数值方法则失败了。创建一个10乘10的数字希尔伯特矩阵。"
   ]
  },
  {
   "cell_type": "code",
   "execution_count": 1,
   "metadata": {},
   "outputs": [
    {
     "name": "stdout",
     "output_type": "stream",
     "text": [
      "[[1.         0.5        0.33333333 0.25       0.2        0.16666667\n",
      "  0.14285714 0.125      0.11111111 0.1       ]\n",
      " [0.5        0.33333333 0.25       0.2        0.16666667 0.14285714\n",
      "  0.125      0.11111111 0.1        0.09090909]\n",
      " [0.33333333 0.25       0.2        0.16666667 0.14285714 0.125\n",
      "  0.11111111 0.1        0.09090909 0.08333333]\n",
      " [0.25       0.2        0.16666667 0.14285714 0.125      0.11111111\n",
      "  0.1        0.09090909 0.08333333 0.07692308]\n",
      " [0.2        0.16666667 0.14285714 0.125      0.11111111 0.1\n",
      "  0.09090909 0.08333333 0.07692308 0.07142857]\n",
      " [0.16666667 0.14285714 0.125      0.11111111 0.1        0.09090909\n",
      "  0.08333333 0.07692308 0.07142857 0.06666667]\n",
      " [0.14285714 0.125      0.11111111 0.1        0.09090909 0.08333333\n",
      "  0.07692308 0.07142857 0.06666667 0.0625    ]\n",
      " [0.125      0.11111111 0.1        0.09090909 0.08333333 0.07692308\n",
      "  0.07142857 0.06666667 0.0625     0.05882353]\n",
      " [0.11111111 0.1        0.09090909 0.08333333 0.07692308 0.07142857\n",
      "  0.06666667 0.0625     0.05882353 0.05555556]\n",
      " [0.1        0.09090909 0.08333333 0.07692308 0.07142857 0.06666667\n",
      "  0.0625     0.05882353 0.05555556 0.05263158]]\n"
     ]
    }
   ],
   "source": [
    "import math\n",
    "import numpy as np\n",
    "H= 1. / (np.arange(1,11) + np.arange(0, 10)[:, np.newaxis])\n",
    "print(H)"
   ]
  },
  {
   "cell_type": "markdown",
   "metadata": {},
   "source": [
    "求这个矩阵的条件数。希尔伯特矩阵是病态的，这意味着它们具有大的条件数，表明这种矩阵几乎是奇异的。请注意，计算条件数也容易出现数字错误。"
   ]
  },
  {
   "cell_type": "code",
   "execution_count": 2,
   "metadata": {},
   "outputs": [
    {
     "name": "stdout",
     "output_type": "stream",
     "text": [
      "16025028168113.176\n"
     ]
    }
   ],
   "source": [
    "print(np.linalg.cond(H))"
   ]
  },
  {
   "cell_type": "markdown",
   "metadata": {},
   "source": [
    "因此，对希尔伯特矩阵求逆在数值上是不稳定的。当你计算矩阵的逆矩阵时，H*inv(H)必须返回一个单位矩阵或在一定误差范围内接近单位矩阵的矩阵。\n",
    "首先，计算的倒数H通过使用inv功能。数值不稳定。"
   ]
  },
  {
   "cell_type": "code",
   "execution_count": 3,
   "metadata": {},
   "outputs": [
    {
     "name": "stdout",
     "output_type": "stream",
     "text": [
      "[[ 9.99965762e+01 -2.47485203e+03  2.63978983e+04 -1.50135668e+05\n",
      "   5.04449304e+05 -1.05092470e+06  1.37262379e+06 -1.09380100e+06\n",
      "   4.86130471e+05 -9.23642393e+04]\n",
      " [-2.47485208e+03  1.08891478e+05 -1.47001386e+06  9.51251393e+06\n",
      "  -3.46807148e+07  7.64385283e+07 -1.04040641e+08  8.55597686e+07\n",
      "  -3.89829774e+07  7.55712042e+06]\n",
      " [ 2.63978996e+04 -1.47001391e+06  2.25791853e+07 -1.58540836e+08\n",
      "   6.11510604e+08 -1.40455566e+09  1.97291943e+09 -1.66328519e+09\n",
      "   7.73218726e+08 -1.52402643e+08]\n",
      " [-1.50135681e+05  9.51251449e+06 -1.58540841e+08  1.17772561e+09\n",
      "  -4.73388395e+09  1.12210168e+10 -1.61582136e+10  1.38989151e+10\n",
      "  -6.56939378e+09  1.31301224e+09]\n",
      " [ 5.04449367e+05 -3.46807179e+07  6.11510639e+08 -4.73388408e+09\n",
      "   1.96368009e+10 -4.77173213e+10  7.01079628e+10 -6.13145612e+10\n",
      "   2.93874113e+10 -5.94374289e+09]\n",
      " [-1.05092487e+06  7.64385375e+07 -1.40455578e+09  1.12210174e+10\n",
      "  -4.77173225e+10  1.18307298e+11 -1.76730511e+11  1.56733239e+11\n",
      "  -7.60175732e+10  1.55330199e+10]\n",
      " [ 1.37262405e+06 -1.04040656e+08  1.97291964e+09 -1.61582148e+10\n",
      "   7.01079661e+10 -1.76730515e+11  2.67710147e+11 -2.40253424e+11\n",
      "   1.17724182e+11 -2.42703943e+10]\n",
      " [-1.09380125e+06  8.55597836e+07 -1.66328541e+09  1.38989165e+10\n",
      "  -6.13145653e+10  1.56733246e+11 -2.40253428e+11  2.17829928e+11\n",
      "  -1.07691863e+11  2.23765858e+10]\n",
      " [ 4.86130596e+05 -3.89829852e+07  7.73218845e+08 -6.56939454e+09\n",
      "   2.93874138e+10 -7.60175776e+10  1.17724187e+11 -1.07691865e+11\n",
      "   5.36596729e+10 -1.12271584e+10]\n",
      " [-9.23642657e+04  7.55712211e+06 -1.52402669e+08  1.31301242e+09\n",
      "  -5.94374349e+09  1.55330211e+10 -2.42703955e+10  2.23765865e+10\n",
      "  -1.12271585e+10  2.36361545e+09]]\n"
     ]
    }
   ],
   "source": [
    "print(H*np.linalg.inv(H))"
   ]
  },
  {
   "cell_type": "markdown",
   "metadata": {},
   "source": [
    "为了避免舍入误差，请使用精确的符号计算。为此，创建符号希尔伯特矩阵。"
   ]
  },
  {
   "cell_type": "code",
   "execution_count": 4,
   "metadata": {},
   "outputs": [
    {
     "name": "stdout",
     "output_type": "stream",
     "text": [
      "Matrix([[1, 1/2, 1/3, 1/4, 1/5, 1/6, 1/7, 1/8, 1/9, 1/10], [1/2, 1/3, 1/4, 1/5, 1/6, 1/7, 1/8, 1/9, 1/10, 1/11], [1/3, 1/4, 1/5, 1/6, 1/7, 1/8, 1/9, 1/10, 1/11, 1/12], [1/4, 1/5, 1/6, 1/7, 1/8, 1/9, 1/10, 1/11, 1/12, 1/13], [1/5, 1/6, 1/7, 1/8, 1/9, 1/10, 1/11, 1/12, 1/13, 1/14], [1/6, 1/7, 1/8, 1/9, 1/10, 1/11, 1/12, 1/13, 1/14, 1/15], [1/7, 1/8, 1/9, 1/10, 1/11, 1/12, 1/13, 1/14, 1/15, 1/16], [1/8, 1/9, 1/10, 1/11, 1/12, 1/13, 1/14, 1/15, 1/16, 1/17], [1/9, 1/10, 1/11, 1/12, 1/13, 1/14, 1/15, 1/16, 1/17, 1/18], [1/10, 1/11, 1/12, 1/13, 1/14, 1/15, 1/16, 1/17, 1/18, 1/19]])\n"
     ]
    }
   ],
   "source": [
    "from __future__ import division\n",
    "import numpy as np\n",
    "import sympy as sym\n",
    "from sympy import *\n",
    "def hilmat(a,b):\n",
    "    li=[]\n",
    "    for i in range(a):\n",
    "      for j in range(b):\n",
    "        ele=Rational(1,(i+j+1))\n",
    "        li.insert(a*i+i+j+1,ele)\n",
    "    h=np.mat(li)\n",
    "    h=h.reshape(a,b)\n",
    "    return h\n",
    "H=hilmat(10,10)\n",
    "H=sym.Matrix(H)\n",
    "print(H)"
   ]
  },
  {
   "cell_type": "markdown",
   "metadata": {},
   "source": [
    "符号计算下可得到Hibert逆矩阵的精确结果，你举证乘以Hilbert矩阵结果为单位矩阵："
   ]
  },
  {
   "cell_type": "code",
   "execution_count": 5,
   "metadata": {},
   "outputs": [
    {
     "name": "stdout",
     "output_type": "stream",
     "text": [
      "Matrix([[1, 0, 0, 0, 0, 0, 0, 0, 0, 0], [0, 1, 0, 0, 0, 0, 0, 0, 0, 0], [0, 0, 1, 0, 0, 0, 0, 0, 0, 0], [0, 0, 0, 1, 0, 0, 0, 0, 0, 0], [0, 0, 0, 0, 1, 0, 0, 0, 0, 0], [0, 0, 0, 0, 0, 1, 0, 0, 0, 0], [0, 0, 0, 0, 0, 0, 1, 0, 0, 0], [0, 0, 0, 0, 0, 0, 0, 1, 0, 0], [0, 0, 0, 0, 0, 0, 0, 0, 1, 0], [0, 0, 0, 0, 0, 0, 0, 0, 0, 1]])\n"
     ]
    }
   ],
   "source": [
    "HH=H.inv()\n",
    "print(H*HH)"
   ]
  }
 ],
 "metadata": {
  "kernelspec": {
   "display_name": "Python 3",
   "language": "python",
   "name": "python3"
  },
  "language_info": {
   "codemirror_mode": {
    "name": "ipython",
    "version": 3
   },
   "file_extension": ".py",
   "mimetype": "text/x-python",
   "name": "python",
   "nbconvert_exporter": "python",
   "pygments_lexer": "ipython3",
   "version": "3.7.1"
  }
 },
 "nbformat": 4,
 "nbformat_minor": 2
}
